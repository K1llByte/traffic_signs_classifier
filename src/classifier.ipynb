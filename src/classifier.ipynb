{
 "cells": [
  {
   "cell_type": "markdown",
   "id": "planned-mexico",
   "metadata": {},
   "source": [
    "# Trafic Sign Classifier"
   ]
  },
  {
   "cell_type": "code",
   "execution_count": 2,
   "id": "fuzzy-selection",
   "metadata": {},
   "outputs": [
    {
     "name": "stdout",
     "output_type": "stream",
     "text": [
      "[INFO] Training Model ...\n"
     ]
    },
    {
     "ename": "UnboundLocalError",
     "evalue": "local variable 'modelV3' referenced before assignment",
     "output_type": "error",
     "traceback": [
      "\u001b[0;31m---------------------------------------------------------------------------\u001b[0m",
      "\u001b[0;31mUnboundLocalError\u001b[0m                         Traceback (most recent call last)",
      "\u001b[0;32m<ipython-input-2-fe95830462cb>\u001b[0m in \u001b[0;36m<module>\u001b[0;34m\u001b[0m\n\u001b[1;32m      8\u001b[0m \u001b[0;34m\u001b[0m\u001b[0m\n\u001b[1;32m      9\u001b[0m \u001b[0;31m# Load a pretrained model if it exists\u001b[0m\u001b[0;34m\u001b[0m\u001b[0;34m\u001b[0m\u001b[0;34m\u001b[0m\u001b[0m\n\u001b[0;32m---> 10\u001b[0;31m \u001b[0mmodel\u001b[0m \u001b[0;34m=\u001b[0m \u001b[0mtrain\u001b[0m\u001b[0;34m(\u001b[0m\u001b[0mmodel\u001b[0m\u001b[0;34m,\u001b[0m \u001b[0mdata\u001b[0m\u001b[0;34m)\u001b[0m\u001b[0;34m\u001b[0m\u001b[0;34m\u001b[0m\u001b[0m\n\u001b[0m",
      "\u001b[0;32m~/Documents/MIEI/4_Grade/2_Sem/TA/Projects/GroupProject/src/cnn1/cnn1.py\u001b[0m in \u001b[0;36mtrain\u001b[0;34m(in_model, data)\u001b[0m\n\u001b[1;32m    263\u001b[0m     \u001b[0;32mif\u001b[0m \u001b[0;32mnot\u001b[0m \u001b[0mos\u001b[0m\u001b[0;34m.\u001b[0m\u001b[0mpath\u001b[0m\u001b[0;34m.\u001b[0m\u001b[0mexists\u001b[0m\u001b[0;34m(\u001b[0m\u001b[0mMODEL_FILE\u001b[0m\u001b[0;34m)\u001b[0m\u001b[0;34m:\u001b[0m\u001b[0;34m\u001b[0m\u001b[0;34m\u001b[0m\u001b[0m\n\u001b[1;32m    264\u001b[0m         \u001b[0mprint\u001b[0m\u001b[0;34m(\u001b[0m\u001b[0;34m\"[INFO] Training Model ...\"\u001b[0m\u001b[0;34m)\u001b[0m\u001b[0;34m\u001b[0m\u001b[0;34m\u001b[0m\u001b[0m\n\u001b[0;32m--> 265\u001b[0;31m         modelV3.fit(train_set,\n\u001b[0m\u001b[1;32m    266\u001b[0m                     \u001b[0msteps_per_epoch\u001b[0m\u001b[0;34m=\u001b[0m\u001b[0mdataset_length\u001b[0m\u001b[0;34m/\u001b[0m\u001b[0mBATCH_SIZE\u001b[0m\u001b[0;34m,\u001b[0m\u001b[0;34m\u001b[0m\u001b[0;34m\u001b[0m\u001b[0m\n\u001b[1;32m    267\u001b[0m                     \u001b[0mepochs\u001b[0m\u001b[0;34m=\u001b[0m\u001b[0;36m20\u001b[0m\u001b[0;34m,\u001b[0m\u001b[0;34m\u001b[0m\u001b[0;34m\u001b[0m\u001b[0m\n",
      "\u001b[0;31mUnboundLocalError\u001b[0m: local variable 'modelV3' referenced before assignment"
     ]
    }
   ],
   "source": [
    "from cnn1.cnn1 import fetch_data, make_model, train, IMAGE_SIZE\n",
    "\n",
    "# Fetch 'gtsrb' dataset and prepare data\n",
    "data = fetch_data(\"../data/gtsrb\")\n",
    "\n",
    "# Make and compile Neural Network model\n",
    "model = make_model(8, IMAGE_SIZE)\n",
    "\n",
    "# Load a pretrained model if it exists\n",
    "model = train(model, data)"
   ]
  },
  {
   "cell_type": "code",
   "execution_count": null,
   "id": "biblical-adolescent",
   "metadata": {},
   "outputs": [],
   "source": [
    "im = Image.open(\"data/new_50_1.jpg\").resize((IMAGE_SIZE,IMAGE_SIZE))\n",
    "numpy_image = np.asarray(im)\n",
    "\n",
    "# Expand to include batch info\n",
    "numpy_image = np.expand_dims(numpy_image, axis=0)\n",
    "\n",
    "# Predict\n",
    "in_pred = modelV3.predict(numpy_image)\n",
    "print(in_pred)"
   ]
  }
 ],
 "metadata": {
  "kernelspec": {
   "display_name": "Python 3",
   "language": "python",
   "name": "python3"
  },
  "language_info": {
   "codemirror_mode": {
    "name": "ipython",
    "version": 3
   },
   "file_extension": ".py",
   "mimetype": "text/x-python",
   "name": "python",
   "nbconvert_exporter": "python",
   "pygments_lexer": "ipython3",
   "version": "3.9.4"
  }
 },
 "nbformat": 4,
 "nbformat_minor": 5
}
