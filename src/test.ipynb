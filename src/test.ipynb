{
 "cells": [
  {
   "cell_type": "code",
   "execution_count": 1,
   "id": "cellular-aging",
   "metadata": {},
   "outputs": [],
   "source": [
    "import PIL\n",
    "from PIL import Image\n",
    "import os\n",
    "import numpy as np\n",
    "\n",
    "#from tensorflow.keras.utils import np_utils\n",
    "import tensorflow as tf\n",
    "import tensorflow_addons as tfa\n",
    "\n",
    "import matplotlib.pyplot as plt"
   ]
  },
  {
   "cell_type": "code",
   "execution_count": 16,
   "id": "pointed-turtle",
   "metadata": {},
   "outputs": [],
   "source": [
    "image = Image.open('../data/gtsrb_full/train_images/00000/00000_00000.png')\n",
    "image = np.asarray(image, dtype=\"float32\")/255.0"
   ]
  },
  {
   "cell_type": "code",
   "execution_count": 21,
   "id": "accredited-scoop",
   "metadata": {},
   "outputs": [],
   "source": [
    "# Brightness\n",
    "def process_image_brightness(image):\n",
    "    image = tf.clip_by_value(tf.image.random_brightness(image, max_delta = 0.25), 0, 1)\n",
    "    return image\n",
    "\n",
    "\n",
    "# Contrast\n",
    "def process_image_contrast(image):\n",
    "    image = tf.clip_by_value(tf.image.random_contrast(image, lower=0.7, upper=1.3, seed=None), 0, 1)\n",
    "    return image\n",
    "\n",
    "# Saturation\n",
    "def process_image_saturation(image):\n",
    "    image = tf.image.random_saturation(image, lower=0.6, upper= 1.4, seed=None)\n",
    "    return image\n",
    "\n",
    "\n",
    "# Contrast\n",
    "def process_image_translate(image):\n",
    "    rx = tf.random.uniform(shape=(), minval=-10, maxval=10)\n",
    "    ry = tf.random.uniform(shape=(), minval=-4, maxval=4) - 4\n",
    "    image = tfa.image.translate(image, [rx, ry])\n",
    "    return image\n",
    "\n",
    "# Saturation\n",
    "def process_image_rotate(image):\n",
    "    r = tf.random.uniform(shape=(), minval=0, maxval=0.5) - 0.25\n",
    "    image = tfa.image.rotate(image, r)\n",
    "    #image = tf.clip_by_value(tfa.image.random_hsv_in_yiq(image, 0.0, 0.4, 1.1, 0.4, 1.1), 0.0, 1.0)\n",
    "    #image = tf.clip_by_value(tf.image.adjust_brightness(image, tf.random.uniform(shape=(), minval=0, maxval=0.1)-0.2),0,1)\n",
    "    return image\n",
    "\n",
    "def apply_all(image):\n",
    "    image = process_image_brightness(image)\n",
    "    image = process_image_contrast(image)\n",
    "    image = process_image_saturation(image)\n",
    "    image = process_image_translate(image)\n",
    "    image = process_image_rotate(image)\n",
    "    return image"
   ]
  },
  {
   "cell_type": "code",
   "execution_count": 27,
   "id": "motivated-shopper",
   "metadata": {},
   "outputs": [
    {
     "data": {
      "image/png": "[encoded data removed]",
      "text/plain": [
       "<Figure size 432x216 with 2 Axes>"
      ]
     },
     "metadata": {
      "needs_background": "light"
     },
     "output_type": "display_data"
    }
   ],
   "source": [
    "img = apply_all(image)\n",
    "\n",
    "_, ax = plt.subplots(1,2, figsize=(6,3))\n",
    "ax[0].imshow(image)\n",
    "ax[1].imshow(img)\n",
    "plt.show()"
   ]
  },
  {
   "cell_type": "code",
   "execution_count": null,
   "id": "practical-split",
   "metadata": {},
   "outputs": [],
   "source": []
  }
 ],
 "metadata": {
  "kernelspec": {
   "display_name": "Python 3",
   "language": "python",
   "name": "python3"
  },
  "language_info": {
   "codemirror_mode": {
    "name": "ipython",
    "version": 3
   },
   "file_extension": ".py",
   "mimetype": "text/x-python",
   "name": "python",
   "nbconvert_exporter": "python",
   "pygments_lexer": "ipython3",
   "version": "3.9.4"
  }
 },
 "nbformat": 4,
 "nbformat_minor": 5
}
